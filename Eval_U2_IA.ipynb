{
  "nbformat": 4,
  "nbformat_minor": 0,
  "metadata": {
    "colab": {
      "provenance": []
    },
    "kernelspec": {
      "name": "python3",
      "display_name": "Python 3"
    },
    "language_info": {
      "name": "python"
    }
  },
  "cells": [
    {
      "cell_type": "markdown",
      "source": [
        "##librerias necesarias"
      ],
      "metadata": {
        "id": "0YZBSBHU72KO"
      }
    },
    {
      "cell_type": "code",
      "execution_count": 3,
      "metadata": {
        "id": "iUICbIh27kiW"
      },
      "outputs": [],
      "source": [
        "from sklearn.tree import DecisionTreeClassifier\n",
        "from sklearn.linear_model import LogisticRegression\n",
        "from sklearn.datasets import load_iris\n",
        "from sklearn.model_selection import train_test_split\n",
        "from sklearn.metrics import accuracy_score\n",
        "import matplotlib.pyplot as plt\n",
        "from sklearn.ensemble import RandomForestClassifier\n",
        "from sklearn.svm import SVC\n",
        "from sklearn.neighbors import KNeighborsClassifier\n",
        "from sklearn.naive_bayes import GaussianNB"
      ]
    },
    {
      "cell_type": "markdown",
      "source": [
        "#funciones reutilizables para la creacion de datos y representacion"
      ],
      "metadata": {
        "id": "iHkvBcYs8AOG"
      }
    },
    {
      "cell_type": "code",
      "source": [
        "def crearDatos(): #metodo para crear las varibales x, y e iris del dataset\n",
        "    iris = load_iris()\n",
        "    iris\n",
        "    x = iris.data[:, :2]\n",
        "    y = iris.target\n",
        "    return x, y, iris"
      ],
      "metadata": {
        "id": "d49uTq8D8Oax"
      },
      "execution_count": 4,
      "outputs": []
    },
    {
      "cell_type": "code",
      "source": [
        "def MostrarDatosOriginales(): #metodo para imprimir los datos originales del dataset\n",
        "    plt.scatter(x[:, 0], x[:, 1], c=y, cmap=\"viridis\")\n",
        "    plt.xlabel(\"largo del sepalo\")\n",
        "    plt.ylabel(\"ancho del sepalo\")\n",
        "    plt.title(\"conjunto de datos del iris\")\n",
        "    plt.show()\n"
      ],
      "metadata": {
        "id": "_RqeG0sg8aSe"
      },
      "execution_count": 5,
      "outputs": []
    },
    {
      "cell_type": "code",
      "source": [
        "def DatosTrainTest(iris): #metodo para crear las variables X y Y de entrenamiento y de prueba\n",
        "    X_train, X_test, y_train, y_test = train_test_split(iris.data, iris.target, test_size  =0.3, random_state = 42)\n",
        "    return X_train, X_test, y_train, y_test"
      ],
      "metadata": {
        "id": "SjyTLZMp8dX5"
      },
      "execution_count": 6,
      "outputs": []
    },
    {
      "cell_type": "code",
      "source": [
        "def accuracI(y_test, y_pred, name=\"none\"): #metodo para mostrar el accuaraci del modelo\n",
        "    accuraci = accuracy_score(y_test, y_pred)\n",
        "    print(f\"el accuracy del {name} es =\", accuraci)"
      ],
      "metadata": {
        "id": "dpOITqSf8ftX"
      },
      "execution_count": 7,
      "outputs": []
    },
    {
      "cell_type": "code",
      "source": [
        "def RealizarPrediccion(metodo): #metodo para realizar predicciones con un set de datos predefinidos\n",
        "    data1  =[[1.1, 1.5, 3.4, 0.2]]\n",
        "    data2 = [[2.1, 1.5, 3.5, 4.2]]\n",
        "    predict1 = metodo.predict(data1)\n",
        "    predict2 = metodo.predict(data2)\n",
        "\n",
        "    print(\"predicion 1 es \", predict1)\n",
        "    print(\"prediciion 2 es\", predict2)\n",
        "    print(\" \")"
      ],
      "metadata": {
        "id": "0lMQ39nj8t_4"
      },
      "execution_count": 8,
      "outputs": []
    },
    {
      "cell_type": "markdown",
      "source": [
        "#funcion para la creacion del modelo reutilizable"
      ],
      "metadata": {
        "id": "XZ47BjDS8xAp"
      }
    },
    {
      "cell_type": "code",
      "source": [
        "def Modelo(obj, name): #metodo para crear el cuerpo base de un modelo\n",
        "        print(name) # imprime el nombre del modelo que se esta ejecutando\n",
        "\n",
        "        x, y, iris = crearDatos() #creamos los datos\n",
        "\n",
        "        X_train, X_test, y_train, y_test = DatosTrainTest(iris) #creamos los datos de entrenamiento y prueba\n",
        "\n",
        "        obj.fit(X_train, y_train) #entrenamos al modelo\n",
        "\n",
        "        y_pred = obj.predict(X_test) #creamos un datos de prediccion\n",
        "\n",
        "        accuracI(y_test, y_pred, name) #mostramos el acuaraci\n",
        "\n",
        "        RealizarPrediccion(obj) #realizamos una prediccion con datos predefinidos"
      ],
      "metadata": {
        "id": "0VOEeQ8w82c2"
      },
      "execution_count": 10,
      "outputs": []
    },
    {
      "cell_type": "markdown",
      "source": [
        "# test de diferentes modelos "
      ],
      "metadata": {
        "id": "sorf_Bjn8_ka"
      }
    },
    {
      "cell_type": "code",
      "source": [
        "#ARBOLES DE DECISION\n",
        "dtc = DecisionTreeClassifier() #creamos la instancia del modelo\n",
        "Modelo(dtc, \"Modelo de arbol de decicion\")"
      ],
      "metadata": {
        "colab": {
          "base_uri": "https://localhost:8080/"
        },
        "id": "8XHjtY9I9G9F",
        "outputId": "087d0730-210a-4cac-d016-64f803d16036"
      },
      "execution_count": 11,
      "outputs": [
        {
          "output_type": "stream",
          "name": "stdout",
          "text": [
            "Modelo de arbol de decicion\n",
            "el accuracy del Modelo de arbol de decicion es = 1.0\n",
            "predicion 1 es  [1]\n",
            "prediciion 2 es [1]\n",
            " \n"
          ]
        }
      ]
    },
    {
      "cell_type": "code",
      "source": [
        "#BOSQUE ALEATORIO\n",
        "rfc = RandomForestClassifier() #creamos la instancia del modelo\n",
        "Modelo(rfc, \"Modelo de bosque aleatorio\")"
      ],
      "metadata": {
        "colab": {
          "base_uri": "https://localhost:8080/"
        },
        "id": "XESV_N2w9Pkp",
        "outputId": "3e37579e-75b3-4150-ca2a-af719df8dac0"
      },
      "execution_count": 12,
      "outputs": [
        {
          "output_type": "stream",
          "name": "stdout",
          "text": [
            "Modelo de bosque aleatorio\n",
            "el accuracy del Modelo de bosque aleatorio es = 1.0\n",
            "predicion 1 es  [1]\n",
            "prediciion 2 es [2]\n",
            " \n"
          ]
        }
      ]
    },
    {
      "cell_type": "code",
      "source": [
        "#SUPORT VECTOR MACHINE\n",
        "svc = SVC() #creamos la instancia del modelo\n",
        "Modelo(svc, \"Modelo de SUPORT VECTOR MACHINE\")"
      ],
      "metadata": {
        "colab": {
          "base_uri": "https://localhost:8080/"
        },
        "id": "y5jHH3N19R11",
        "outputId": "7ec7545e-a263-4554-86bf-590066604778"
      },
      "execution_count": 13,
      "outputs": [
        {
          "output_type": "stream",
          "name": "stdout",
          "text": [
            "Modelo de SUPORT VECTOR MACHINE\n",
            "el accuracy del Modelo de SUPORT VECTOR MACHINE es = 1.0\n",
            "predicion 1 es  [1]\n",
            "prediciion 2 es [2]\n",
            " \n"
          ]
        }
      ]
    },
    {
      "cell_type": "code",
      "source": [
        "#KNN\n",
        "knn = KNeighborsClassifier() #creamos la instancia del modelo\n",
        "Modelo(knn, \"modelo de KNN\")\n"
      ],
      "metadata": {
        "colab": {
          "base_uri": "https://localhost:8080/"
        },
        "id": "RHTO-1Ee9TwC",
        "outputId": "bab44773-5d65-462d-a328-8aefaf5ed7c2"
      },
      "execution_count": 14,
      "outputs": [
        {
          "output_type": "stream",
          "name": "stdout",
          "text": [
            "modelo de KNN\n",
            "el accuracy del modelo de KNN es = 1.0\n",
            "predicion 1 es  [1]\n",
            "prediciion 2 es [1]\n",
            " \n"
          ]
        }
      ]
    },
    {
      "cell_type": "code",
      "source": [
        "#NAIVE BAYES\n",
        "gnb = GaussianNB() #creamos la instancia del modelo\n",
        "Modelo(gnb, \"modelo de naive bayes\")"
      ],
      "metadata": {
        "colab": {
          "base_uri": "https://localhost:8080/"
        },
        "id": "iw1U-Hkf9V03",
        "outputId": "d62c2cff-fc14-4baf-8cd9-061842c88868"
      },
      "execution_count": 15,
      "outputs": [
        {
          "output_type": "stream",
          "name": "stdout",
          "text": [
            "modelo de naive bayes\n",
            "el accuracy del modelo de naive bayes es = 0.9777777777777777\n",
            "predicion 1 es  [1]\n",
            "prediciion 2 es [2]\n",
            " \n"
          ]
        }
      ]
    }
  ]
}